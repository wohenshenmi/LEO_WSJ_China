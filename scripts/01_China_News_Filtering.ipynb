{
 "cells": [
  {
   "metadata": {},
   "cell_type": "markdown",
   "source": [
    "# 步骤 1: 准备工作与环境设置\n",
    "\n",
    "**目标:** 导入所有需要的库，并设置好文件路径和全局变量。"
   ],
   "id": "3c4e87dfe8957389"
  },
  {
   "cell_type": "code",
   "id": "initial_id",
   "metadata": {
    "collapsed": true,
    "ExecuteTime": {
     "end_time": "2025-07-30T15:16:01.714767Z",
     "start_time": "2025-07-30T15:16:00.550475Z"
    }
   },
   "source": [
    "# --- 步骤 1: 准备工作与环境设置 (已集成5级评分) ---\n",
    "\n",
    "# --- 核心库 ---\n",
    "import html\n",
    "import json\n",
    "import os\n",
    "import re\n",
    "import time\n",
    "import unicodedata\n",
    "from itertools import islice # 为测试模式引入\n",
    "\n",
    "# --- 数据处理与NLP库 ---\n",
    "import pandas as pd\n",
    "import psutil\n",
    "import spacy\n",
    "from flashtext import KeywordProcessor\n",
    "from tqdm.auto import tqdm\n",
    "\n",
    "# --- 快速测试模式开关 ---\n",
    "TEST_MODE = False\n",
    "TEST_SAMPLE_SIZE = 50000\n",
    "CANDIDATE_SAMPLE_SIZE = 2000\n",
    "\n",
    "# --- 全局文件与参数配置 ---\n",
    "ALIYUN_OSS_PATH = ''\n",
    "KEYWORD_JSON_PATH = os.path.join(ALIYUN_OSS_PATH, '../data_raw/china_keywords_collection.json')\n",
    "SOURCE_NEWS_FILE = os.path.join(ALIYUN_OSS_PATH, '../data_raw/final_merged_all_news.csv')\n",
    "CANDIDATES_FILE = os.path.join(ALIYUN_OSS_PATH, '../data_processed/china_news_candidates.csv')\n",
    "FINAL_RESULT_FILE = os.path.join(ALIYUN_OSS_PATH, '../data_processed/final_china_news.csv')\n",
    "REJECTED_FILE = os.path.join(ALIYUN_OSS_PATH, '../data_processed/china_news_rejected_articles.csv')\n",
    "\n",
    "# --- 全局处理参数 ---\n",
    "NEWS_COLUMN = 'CONTENT'\n",
    "CHUNKSIZE = 20000\n",
    "\n",
    "# --- 智能配置并行参数 ---\n",
    "cpu_cores = psutil.cpu_count(logical=False)\n",
    "N_PROCESSES = min(cpu_cores - 1 if cpu_cores > 1 else 1, 8)\n",
    "if N_PROCESSES < 1: N_PROCESSES = 1\n",
    "BATCH_SIZE = 500\n",
    "\n",
    "# --- 精筛积分系统配置 (已升级为5级) ---\n",
    "ACCEPTANCE_THRESHOLD = 5.0      # 总分高于此值则接受\n",
    "\n",
    "# -- 正向加分 --\n",
    "# 前10句动态奖励\n",
    "LEAD_BONUS_TIER_5 = 20.0\n",
    "LEAD_BONUS_TIER_4 = 15.0\n",
    "LEAD_BONUS_TIER_3 = 10.0\n",
    "LEAD_BONUS_TIER_2 = 5.0\n",
    "# 关键词频率分\n",
    "TIER_5_SCORE = 5.0\n",
    "TIER_4_SCORE = 4.0\n",
    "TIER_3_SCORE = 3.0\n",
    "TIER_2_SCORE = 2.0\n",
    "TIER_1_SCORE = 1.0\n",
    "# -- 负向扣分 --\n",
    "NEGATION_PENALTY = -3.0\n",
    "HYPOTHETICAL_PENALTY = -2.0\n",
    "\n",
    "print(\"✅ 块 1: 库导入和配置完成。\")\n",
    "print(\"-\" * 30)\n",
    "if TEST_MODE:\n",
    "    print(f\"🚀🚀🚀 运行在【快速测试模式】下！🚀🚀🚀\")\n",
    "else:\n",
    "    print(\"🚢🚢🚢 运行在【完整数据模式】下。🚢🚢🚢\")\n",
    "print(\"   - 精筛将采用升级版5级积分制，接受阈值为: \" f\"{ACCEPTANCE_THRESHOLD} 分\")\n",
    "print(\"-\" * 30)\n",
    "print(f\"   - 初筛将使用单进程顺序处理。\")\n",
    "print(f\"   - 精筛阶段将使用 {N_PROCESSES} 个进程进行并行处理。\")"
   ],
   "outputs": [
    {
     "name": "stdout",
     "output_type": "stream",
     "text": [
      "✅ 块 1: 库导入和配置完成。\n",
      "------------------------------\n",
      "🚢🚢🚢 运行在【完整数据模式】下。🚢🚢🚢\n",
      "   - 精筛将采用升级版5级积分制，接受阈值为: 5.0 分\n",
      "------------------------------\n",
      "   - 初筛将使用单进程顺序处理。\n",
      "   - 精筛阶段将使用 5 个进程进行并行处理。\n"
     ]
    }
   ],
   "execution_count": 1
  },
  {
   "metadata": {},
   "cell_type": "markdown",
   "source": [
    "# 步骤 2: 初筛准备 - 构建智能正则表达式\n",
    "\n",
    "**目标:** 读取 中国相关关键词 JSON 文件，并执行我们讨论过的所有逻辑来构建一个强大、高效的正则表达式。"
   ],
   "id": "61a97e0c381dad4e"
  },
  {
   "metadata": {
    "ExecuteTime": {
     "end_time": "2025-07-30T15:16:01.904331Z",
     "start_time": "2025-07-30T15:16:01.895820Z"
    }
   },
   "cell_type": "code",
   "source": [
    "# --- 构建初筛用的 Flashtext 关键词处理器 ---\n",
    "\n",
    "def build_keyword_processor(json_path):\n",
    "    \"\"\"\n",
    "    从关键词 JSON 文件中构建一个高效的 Flashtext KeywordProcessor。\n",
    "    \"\"\"\n",
    "    print(f\"正在从 {json_path} 加载关键词...\")\n",
    "    try:\n",
    "        with open(json_path, 'r', encoding='utf-8') as f:\n",
    "            keywords_data = json.load(f)\n",
    "    except FileNotFoundError:\n",
    "        print(f\"❌ 错误: 关键词文件未找到 {json_path}\")\n",
    "        return None, None\n",
    "\n",
    "    print(f\"共加载 {len(keywords_data)} 个关键词对象。\")\n",
    "\n",
    "    # 1. 提取全部关键词和别名\n",
    "    all_aliases = set()\n",
    "    for item in keywords_data:\n",
    "        all_aliases.add(item['keyword'])\n",
    "        for alias in item.get('aliases', []):\n",
    "            all_aliases.add(alias)\n",
    "    print(f\"提取出 {len(all_aliases)} 个不重复的关键词/别名。\")\n",
    "\n",
    "    # 2. 初始化 Flashtext 处理器并添加关键词\n",
    "    # case_sensitive=False 使其不区分大小写\n",
    "    keyword_processor = KeywordProcessor(case_sensitive=False)\n",
    "    for kw in all_aliases:\n",
    "        keyword_processor.add_keyword(kw)\n",
    "\n",
    "    print(\"✅ 高效关键词处理器 (Flashtext) 构建完成。\")\n",
    "    return keyword_processor, keywords_data\n",
    "\n",
    "\n",
    "# 执行构建\n",
    "keyword_processor, keywords_data = build_keyword_processor(KEYWORD_JSON_PATH)\n",
    "\n",
    "# 将关键词处理器设为全局变量，以便后续子进程可以访问 (在某些系统上需要)\n",
    "global_keyword_processor = keyword_processor\n",
    "\n",
    "print(\"\\n✅ 块 2: 初筛准备工作完成。\")"
   ],
   "id": "3e6d80d362a6a719",
   "outputs": [
    {
     "name": "stdout",
     "output_type": "stream",
     "text": [
      "正在从 ../data_raw/china_keywords_collection.json 加载关键词...\n",
      "共加载 274 个关键词对象。\n",
      "提取出 394 个不重复的关键词/别名。\n",
      "✅ 高效关键词处理器 (Flashtext) 构建完成。\n",
      "\n",
      "✅ 块 2: 初筛准备工作完成。\n"
     ]
    }
   ],
   "execution_count": 2
  },
  {
   "metadata": {},
   "cell_type": "markdown",
   "source": [
    "# 步骤 3: 执行阶段一 - 调用外部脚本进行快速初筛\n",
    "\n",
    "**目标:** 对大文件进行分块扫描，应用正则表达式，并保存候选集。这将是整个流程中最耗时的部分。"
   ],
   "id": "d3d24e1445bfbb23"
  },
  {
   "metadata": {
    "ExecuteTime": {
     "end_time": "2025-07-30T15:29:59.888400Z",
     "start_time": "2025-07-30T15:16:01.920294Z"
    }
   },
   "cell_type": "code",
   "source": [
    "# --- 步骤 3: 执行第一阶段 - 大规模流式初筛 (已优化进度条) ---\n",
    "\n",
    "# --- 定义处理函数 ---\n",
    "def lightweight_clean(text):\n",
    "    if not isinstance(text, str): return \"\"\n",
    "    text = re.sub('<[^>]*>', '', text)\n",
    "    text = html.unescape(text)\n",
    "    text = unicodedata.normalize('NFKC', text)\n",
    "    text = re.sub(r'https?://\\S+|www\\.\\S+', '', text)\n",
    "    text = re.sub(r'\\S+@\\S+', '', text)\n",
    "    text = re.sub(r'\\s+', ' ', text)\n",
    "    return text.strip()\n",
    "\n",
    "def process_chunk(chunk_df):\n",
    "    if NEWS_COLUMN not in chunk_df.columns: return pd.DataFrame()\n",
    "    cleaned_series = chunk_df[NEWS_COLUMN].astype(str).apply(lightweight_clean)\n",
    "    mask = cleaned_series.apply(lambda x: len(keyword_processor.extract_keywords(x)) > 0)\n",
    "    return chunk_df[mask]\n",
    "\n",
    "# --- 执行阶段一 - 流式扫描与初筛 (已优化进度条) ---\n",
    "print(\"--- 阶段一: 开始使用单进程进行流式初筛 ---\")\n",
    "start_time = time.time()\n",
    "\n",
    "try:\n",
    "    # [关键变更] 使用更可靠的方式计算总块数\n",
    "    if not TEST_MODE:\n",
    "        print(\"正在计算文件总块数 (优化方式)...\")\n",
    "        # 使用 pandas 快速迭代来获取准确的行数，这会考虑坏行\n",
    "        # 我们只读取第一列来最小化内存占用和加快速度\n",
    "        try:\n",
    "            first_col_name = pd.read_csv(SOURCE_NEWS_FILE, nrows=0).columns[0]\n",
    "            row_iterator = pd.read_csv(SOURCE_NEWS_FILE, chunksize=100000, usecols=[first_col_name], on_bad_lines='skip', low_memory=False)\n",
    "            num_lines = sum(len(chunk) for chunk in row_iterator)\n",
    "            total_chunks = (num_lines // CHUNKSIZE) + 1\n",
    "            print(f\"文件包含 {num_lines} 有效行, 约 {total_chunks} 个数据块。\")\n",
    "        except Exception as e:\n",
    "            print(f\"快速计算行数失败: {e}. 将不显示总进度。\")\n",
    "            total_chunks = None # 如果计算失败，则不显示总进度\n",
    "\n",
    "    # 创建用于实际处理的迭代器\n",
    "    chunk_iterator = pd.read_csv(SOURCE_NEWS_FILE, chunksize=CHUNKSIZE, on_bad_lines='skip', low_memory=False)\n",
    "\n",
    "    if TEST_MODE:\n",
    "        num_test_chunks = (TEST_SAMPLE_SIZE // CHUNKSIZE) + 1\n",
    "        chunk_iterator = islice(chunk_iterator, num_test_chunks)\n",
    "        total_chunks = num_test_chunks\n",
    "        print(f\"🚀 测试模式: 将处理前 {total_chunks} 个数据块 (约 {TEST_SAMPLE_SIZE} 行)。\")\n",
    "\n",
    "    print(\"将使用单进程顺序处理...\")\n",
    "\n",
    "    is_first_chunk = True\n",
    "    total_candidates = 0\n",
    "\n",
    "    # --- 使用 tqdm 包装迭代器 ---\n",
    "    # 如果 total_chunks 为 None (计算失败时)，tqdm 会自动回退到不显示百分比的模式\n",
    "    for chunk_df in tqdm(chunk_iterator, total=total_chunks, desc=\"顺序初筛中\"):\n",
    "        candidates_df = process_chunk(chunk_df)\n",
    "\n",
    "        if not candidates_df.empty:\n",
    "            total_candidates += len(candidates_df)\n",
    "            if is_first_chunk:\n",
    "                candidates_df.to_csv(CANDIDATES_FILE, index=False, mode='w', encoding='utf-8')\n",
    "                is_first_chunk = False\n",
    "            else:\n",
    "                candidates_df.to_csv(CANDIDATES_FILE, index=False, mode='a', header=False, encoding='utf-8')\n",
    "\n",
    "    end_time_stage1 = time.time()\n",
    "    print(\"\\n--- 初筛流程执行完毕 ---\")\n",
    "    print(f\"总共找到 {total_candidates} 篇候选文章，已保存到 {CANDIDATES_FILE}\")\n",
    "    print(f\"阶段一 (顺序初筛) 耗时: {(end_time_stage1 - start_time):.2f} 秒。\")\n",
    "\n",
    "except FileNotFoundError:\n",
    "    print(f\"❌ 错误: 原始新闻文件未找到 {SOURCE_NEWS_FILE}\")\n",
    "except Exception as e:\n",
    "    print(f\"❌ 处理过程中发生错误: {e}\")\n",
    "\n",
    "print(\"\\n✅ 块 3: 初筛流程执行完毕。\")"
   ],
   "id": "792bd4595d23d8f1",
   "outputs": [
    {
     "name": "stdout",
     "output_type": "stream",
     "text": [
      "--- 阶段一: 开始使用单进程进行流式初筛 ---\n",
      "正在计算文件总块数...\n",
      "文件约包含 189 个数据块。\n",
      "将使用单进程顺序处理...\n"
     ]
    },
    {
     "data": {
      "text/plain": [
       "顺序初筛中:   0%|          | 0/189 [00:00<?, ?it/s]"
      ],
      "application/vnd.jupyter.widget-view+json": {
       "version_major": 2,
       "version_minor": 0,
       "model_id": "c29f3aca86ef46c1aff3f3c4a8b95f29"
      }
     },
     "metadata": {},
     "output_type": "display_data"
    },
    {
     "name": "stdout",
     "output_type": "stream",
     "text": [
      "\n",
      "--- 初筛流程执行完毕 ---\n",
      "总共找到 179380 篇候选文章，已保存到 ../data_processed/china_news_candidates.csv\n",
      "阶段一 (顺序初筛) 耗时: 837.96 秒。\n",
      "\n",
      "✅ 块 3: 初筛流程执行完毕。\n"
     ]
    }
   ],
   "execution_count": 3
  },
  {
   "metadata": {},
   "cell_type": "markdown",
   "source": [
    "# 步骤 4: 精筛准备 - 加载模型与定义规则\n",
    "\n",
    "**目标:** 负责加载 spaCy 模型和数据，并定义所有用于精筛的“否决规则”函数。"
   ],
   "id": "ace73e1406b18418"
  },
  {
   "metadata": {
    "ExecuteTime": {
     "end_time": "2025-07-30T15:30:01.424862Z",
     "start_time": "2025-07-30T15:30:00.000095Z"
    }
   },
   "cell_type": "code",
   "source": [
    "# --- 步骤 4: 准备第二阶段 - 构建多维度相关性评估引擎 (已升级为5级评分) ---\n",
    "print(\"--- 阶段二准备: 加载 spaCy 及构建评估规则 ---\")\n",
    "\n",
    "try:\n",
    "    nlp = spacy.load(\"en_core_web_lg\", disable=[\"ner\", \"lemmatizer\", \"tagger\", \"attribute_ruler\"])\n",
    "    print(f\"✅ spaCy 模型 '{nlp.meta['name']}' 的核心组件加载成功。\")\n",
    "except OSError:\n",
    "    print(\"错误: spaCy模型 'en_core_web_lg' 未安装。请运行: python -m spacy download en_core_web_lg\")\n",
    "    nlp = None\n",
    "\n",
    "if nlp:\n",
    "    # 1. 构建关键词信息查找表\n",
    "    print(\"正在构建关键词信息查找表...\")\n",
    "    keyword_lookup = {}\n",
    "    for item in keywords_data:\n",
    "        tier = item.get('relevance_tier', 1)\n",
    "        keyword_lookup[item['keyword'].lower()] = {'tier': tier}\n",
    "        for alias in item.get('aliases', []):\n",
    "            keyword_lookup[alias.lower()] = {'tier': tier}\n",
    "    print(f\"✅ 查找表构建完成，包含 {len(keyword_lookup)} 个词条。\")\n",
    "\n",
    "    # 2. 构建 PhraseMatcher\n",
    "    print(\"正在准备 PhraseMatcher...\")\n",
    "    from spacy.matcher import PhraseMatcher\n",
    "    matcher = PhraseMatcher(nlp.vocab, attr=\"LOWER\")\n",
    "    patterns = [nlp.make_doc(text) for text in keyword_lookup.keys()]\n",
    "    matcher.add(\"ChinaKeywords\", patterns)\n",
    "    print(f\"✅ PhraseMatcher 准备完成，已添加 {len(patterns)} 个模式。\")\n",
    "\n",
    "    # 3. 定义积分/扣分规则函数\n",
    "    # [已升级] score_keyword_frequency 现在支持5个等级\n",
    "    def score_keyword_frequency(matches, doc, lookup):\n",
    "        score = 0\n",
    "        for match_id, start, end in matches:\n",
    "            kw = doc[start:end].text.lower()\n",
    "            tier = lookup.get(kw, {}).get('tier', 1)\n",
    "            if tier == 5: score += TIER_5_SCORE\n",
    "            elif tier == 4: score += TIER_4_SCORE\n",
    "            elif tier == 3: score += TIER_3_SCORE\n",
    "            elif tier == 2: score += TIER_2_SCORE\n",
    "            else: score += TIER_1_SCORE # tier 1 or unknown\n",
    "        return score\n",
    "\n",
    "    # [已升级] score_lead_paragraphs_presence 现在是动态奖励\n",
    "    def score_lead_paragraphs_presence(doc, matcher, lookup):\n",
    "        sents = list(doc.sents)\n",
    "        if not sents: return 0, \"\"\n",
    "\n",
    "        lead_sents_count = min(len(sents), 10)     # 前10个句子\n",
    "        lead_end_token_index = sents[lead_sents_count - 1].end\n",
    "\n",
    "        matches = matcher(doc)\n",
    "\n",
    "        highest_tier_in_lead = 0\n",
    "        found_kw = \"\"\n",
    "\n",
    "        for match_id, start, end in matches:\n",
    "            if start < lead_end_token_index:\n",
    "                kw = doc[start:end].text.lower()\n",
    "                tier = lookup.get(kw, {}).get('tier', 1)\n",
    "                if tier > highest_tier_in_lead:\n",
    "                    highest_tier_in_lead = tier\n",
    "                    found_kw = kw\n",
    "\n",
    "        if highest_tier_in_lead == 5: return LEAD_BONUS_TIER_5, f\"前两段加分-T5(+'{found_kw}')\"\n",
    "        if highest_tier_in_lead == 4: return LEAD_BONUS_TIER_4, f\"前两段加分-T4(+'{found_kw}')\"\n",
    "        if highest_tier_in_lead == 3: return LEAD_BONUS_TIER_3, f\"前两段加分-T3(+'{found_kw}')\"\n",
    "        if highest_tier_in_lead == 2: return LEAD_BONUS_TIER_2, f\"前两段加分-T2(+'{found_kw}')\"\n",
    "\n",
    "        return 0, \"\"\n",
    "\n",
    "    def penalize_hypothetical(doc, keywords_in_doc):\n",
    "        penalty = 0\n",
    "        reasons = []\n",
    "        for sent in doc.sents:\n",
    "            clean_sent_start = sent.text.strip().lower()\n",
    "            if clean_sent_start.startswith(('if ', 'unless ', 'what if')):\n",
    "                if any(token.text.lower() in keywords_in_doc for token in sent):\n",
    "                    penalty += HYPOTHETICAL_PENALTY\n",
    "                    reasons.append(f\"假设句扣分: '{sent.text[:50].strip()}...'\")\n",
    "        return penalty, reasons\n",
    "\n",
    "    def penalize_negation(doc, keywords_in_doc):\n",
    "        penalty = 0\n",
    "        reasons = []\n",
    "        for token in doc:\n",
    "            if token.dep_ == \"neg\" and token.head.text.lower() in keywords_in_doc:\n",
    "                penalty += NEGATION_PENALTY\n",
    "                reasons.append(f\"否定扣分: '{token.text} {token.head.text}'\")\n",
    "        return penalty, reasons\n",
    "\n",
    "    print(\"✅ 块 4: 精筛规则和评估引擎准备完成 (已升级为5级评分)。\")"
   ],
   "id": "eb5b2016c4e20800",
   "outputs": [
    {
     "name": "stdout",
     "output_type": "stream",
     "text": [
      "--- 阶段二准备: 加载 spaCy 及构建评估规则 ---\n",
      "✅ spaCy 模型 'core_web_lg' 的核心组件加载成功。\n",
      "正在构建关键词信息查找表...\n",
      "✅ 查找表构建完成，包含 392 个词条。\n",
      "正在准备 PhraseMatcher...\n",
      "✅ PhraseMatcher 准备完成，已添加 392 个模式。\n",
      "✅ 块 4: 精筛规则和评估引擎准备完成 (已升级为5级评分)。\n"
     ]
    }
   ],
   "execution_count": 4
  },
  {
   "metadata": {},
   "cell_type": "markdown",
   "source": [
    "# 步骤 5: 执行阶段二 - 精筛流程\n",
    "\n",
    "**目标:** 加载候选集，应用所有否决规则，然后保存最终结果和被拒绝的文章。"
   ],
   "id": "8b93ae6fb597319a"
  },
  {
   "metadata": {
    "ExecuteTime": {
     "end_time": "2025-07-30T15:59:12.876911Z",
     "start_time": "2025-07-30T15:30:01.441373Z"
    }
   },
   "cell_type": "code",
   "source": [
    "# --- 步骤 5: 执行第二阶段 - 上下文精筛与产出 (最终版) ---\n",
    "print(\"--- 阶段二: 开始精筛候选集 ---\")\n",
    "start_time_s2 = time.time()\n",
    "\n",
    "try:\n",
    "    read_csv_kwargs = {'low_memory': False}\n",
    "    if TEST_MODE:\n",
    "        read_csv_kwargs['nrows'] = CANDIDATE_SAMPLE_SIZE\n",
    "        print(f\"🚀 测试模式: 最多加载前 {CANDIDATE_SAMPLE_SIZE} 篇候选文章进行精筛。\")\n",
    "\n",
    "    df_candidates = pd.read_csv(CANDIDATES_FILE, **read_csv_kwargs)\n",
    "    print(f\"✅ 成功加载 {len(df_candidates)} 篇候选文章。\")\n",
    "except FileNotFoundError:\n",
    "    print(f\"❌ 错误: 候选文件未找到 {CANDIDATES_FILE}。请先运行块 3。\")\n",
    "    df_candidates = pd.DataFrame()\n",
    "\n",
    "if not df_candidates.empty and nlp:\n",
    "    texts = df_candidates[NEWS_COLUMN].astype(str)\n",
    "    results = []\n",
    "\n",
    "    print(f\"开始使用 {N_PROCESSES} 个进程并行处理文本...\")\n",
    "    docs_content = nlp.pipe(texts, batch_size=BATCH_SIZE, n_process=N_PROCESSES)\n",
    "\n",
    "    for doc in tqdm(docs_content, total=len(df_candidates), desc=\"精筛文章\"):\n",
    "        score = 0\n",
    "        score_details = []\n",
    "\n",
    "        matches = matcher(doc)\n",
    "        if not matches:\n",
    "            results.append({'score': 0, 'reason': '精筛阶段未匹配到任何关键词'})\n",
    "            continue\n",
    "\n",
    "        found_keywords_text = {doc[start:end].text.lower() for _, start, end in matches}\n",
    "\n",
    "        # 2. 正向加分\n",
    "        lead_score, lead_reason = score_lead_paragraphs_presence(doc, matcher, keyword_lookup)\n",
    "        if lead_score > 0: score_details.append(lead_reason)\n",
    "\n",
    "        freq_score = score_keyword_frequency(matches, doc, keyword_lookup)\n",
    "        if freq_score > 0: score_details.append(f\"关键词频率分: +{freq_score:.2f}\")\n",
    "\n",
    "        score = lead_score + freq_score\n",
    "\n",
    "        # 3. 负向扣分\n",
    "        hypo_penalty, hypo_reasons = penalize_hypothetical(doc, found_keywords_text)\n",
    "        nega_penalty, nega_reasons = penalize_negation(doc, found_keywords_text)\n",
    "\n",
    "        score += hypo_penalty\n",
    "        score += nega_penalty\n",
    "        score_details.extend(hypo_reasons)\n",
    "        score_details.extend(nega_reasons)\n",
    "\n",
    "        results.append({'score': score, 'reason': ' | '.join(score_details)})\n",
    "\n",
    "    # 4. 合并与保存结果\n",
    "    print(\"\\n正在合并精筛结果...\")\n",
    "    df_results = pd.DataFrame(results, index=df_candidates.index)\n",
    "\n",
    "    df_results['keep'] = df_results['score'] >= ACCEPTANCE_THRESHOLD\n",
    "    df_final_with_reasons = pd.concat([df_candidates, df_results], axis=1)\n",
    "\n",
    "    df_accepted = df_final_with_reasons[df_final_with_reasons['keep'] == True].drop(columns=['keep', 'score', 'reason'])\n",
    "    df_rejected = df_final_with_reasons[df_final_with_reasons['keep'] == False].drop(columns=['keep'])\n",
    "\n",
    "    print(\"\\n--- 精筛完成 ---\")\n",
    "    df_accepted.to_csv(FINAL_RESULT_FILE, index=False, encoding='utf-8')\n",
    "    print(f\"✅ {len(df_accepted)} 篇最终文章已保存到: {FINAL_RESULT_FILE}\")\n",
    "\n",
    "    df_rejected.to_csv(REJECTED_FILE, index=False, encoding='utf-8')\n",
    "    print(f\"ℹ️ {len(df_rejected)} 篇被拒绝的文章已保存到: {REJECTED_FILE} (供分析)\")\n",
    "\n",
    "    end_time_s2 = time.time()\n",
    "    print(f\"阶段二 (精筛) 耗时: {(end_time_s2 - start_time_s2):.2f} 秒。\")\n",
    "\n",
    "else:\n",
    "    print(\"候选集为空或spaCy模型未加载，跳过精筛。\")\n",
    "\n",
    "print(\"\\n✅ 块 5: 精筛流程执行完毕。\")"
   ],
   "id": "4f5ee5651615939c",
   "outputs": [
    {
     "name": "stdout",
     "output_type": "stream",
     "text": [
      "--- 阶段二: 开始精筛候选集 ---\n",
      "✅ 成功加载 179380 篇候选文章。\n",
      "开始使用 5 个进程并行处理文本...\n"
     ]
    },
    {
     "data": {
      "text/plain": [
       "精筛文章:   0%|          | 0/179380 [00:00<?, ?it/s]"
      ],
      "application/vnd.jupyter.widget-view+json": {
       "version_major": 2,
       "version_minor": 0,
       "model_id": "2f3276e74b2f405f93e478469fc989d9"
      }
     },
     "metadata": {},
     "output_type": "display_data"
    },
    {
     "name": "stdout",
     "output_type": "stream",
     "text": [
      "\n",
      "正在合并精筛结果...\n",
      "\n",
      "--- 精筛完成 ---\n",
      "✅ 173841 篇最终文章已保存到: ../data_processed/final_china_news.csv\n",
      "ℹ️ 5539 篇被拒绝的文章已保存到: ../data_processed/china_news_rejected_articles.csv (供分析)\n",
      "阶段二 (精筛) 耗时: 1751.41 秒。\n",
      "\n",
      "✅ 块 5: 精筛流程执行完毕。\n"
     ]
    }
   ],
   "execution_count": 5
  }
 ],
 "metadata": {
  "kernelspec": {
   "display_name": "Python 3",
   "language": "python",
   "name": "python3"
  },
  "language_info": {
   "codemirror_mode": {
    "name": "ipython",
    "version": 2
   },
   "file_extension": ".py",
   "mimetype": "text/x-python",
   "name": "python",
   "nbconvert_exporter": "python",
   "pygments_lexer": "ipython2",
   "version": "2.7.6"
  }
 },
 "nbformat": 4,
 "nbformat_minor": 5
}
